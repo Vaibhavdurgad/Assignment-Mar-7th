{
 "cells": [
  {
   "cell_type": "markdown",
   "id": "9751f204-3c95-4dea-9452-ccab5c134572",
   "metadata": {},
   "source": [
    "Q1. What are the three measures of central tendency?"
   ]
  },
  {
   "cell_type": "markdown",
   "id": "04f309d8-4931-4870-880c-06dcebb3c2d3",
   "metadata": {},
   "source": [
    "Ans:There are three main measures of central tendency: mode. median. mean."
   ]
  },
  {
   "cell_type": "markdown",
   "id": "c31bb081-38a0-480e-a165-607480e22be1",
   "metadata": {},
   "source": [
    "Q2. What is the difference between the mean, median, and mode? How are they used to measure the\n",
    "central tendency of a dataset?"
   ]
  },
  {
   "cell_type": "markdown",
   "id": "1e8cd261-4374-4cd7-b6bb-c4123f034c56",
   "metadata": {},
   "source": [
    "Ans :Mean is the average value of the given observations. Median is the middle value of the given observations. Mode is the most repeated value in the given observation.\n",
    "\n",
    "The central tendency can be found using the formulas of mean, median or mode in most of the cases. As we know, mean is the average of a given data set, median is the middlemost data value and the mode represents the most frequently occurring data value in the set."
   ]
  },
  {
   "cell_type": "markdown",
   "id": "bdbdc62e-30b4-4110-9af1-a6c97f7f8b40",
   "metadata": {},
   "source": [
    "Q3. Measure the three measures of central tendency for the given height data:\n",
    "[178,177,176,177,178.2,178,175,179,180,175,178.9,176.2,177,172.5,178,176.5]"
   ]
  },
  {
   "cell_type": "code",
   "execution_count": 1,
   "id": "3113f1b4-9bc2-47aa-a94d-664035879bb9",
   "metadata": {},
   "outputs": [],
   "source": [
    "import numpy as np"
   ]
  },
  {
   "cell_type": "code",
   "execution_count": 2,
   "id": "966fa177-acc8-4be9-8566-6f7bc5e087a7",
   "metadata": {},
   "outputs": [],
   "source": [
    "Height=[178,177,176,177,178.2,178,175,179,180,175,178.9,176.2,177,172.5,178,176.5]"
   ]
  },
  {
   "cell_type": "code",
   "execution_count": 3,
   "id": "a73c01c7-7bef-469a-89b9-4d4493be7bfa",
   "metadata": {},
   "outputs": [
    {
     "data": {
      "text/plain": [
       "177.01875"
      ]
     },
     "execution_count": 3,
     "metadata": {},
     "output_type": "execute_result"
    }
   ],
   "source": [
    "np.mean(Height)"
   ]
  },
  {
   "cell_type": "code",
   "execution_count": 9,
   "id": "83dd863e-3408-451b-8eb3-a3f7fe1c456a",
   "metadata": {},
   "outputs": [
    {
     "data": {
      "text/plain": [
       "177.0"
      ]
     },
     "execution_count": 9,
     "metadata": {},
     "output_type": "execute_result"
    }
   ],
   "source": [
    "np.median(Height)"
   ]
  },
  {
   "cell_type": "code",
   "execution_count": 10,
   "id": "484ccef1-001e-43c1-a95f-7a7839897c03",
   "metadata": {},
   "outputs": [],
   "source": [
    "from scipy import stats"
   ]
  },
  {
   "cell_type": "code",
   "execution_count": 11,
   "id": "d74fbba6-a192-49df-a24c-0a655576c1b2",
   "metadata": {},
   "outputs": [
    {
     "name": "stderr",
     "output_type": "stream",
     "text": [
      "/tmp/ipykernel_105/2191083717.py:1: FutureWarning: Unlike other reduction functions (e.g. `skew`, `kurtosis`), the default behavior of `mode` typically preserves the axis it acts along. In SciPy 1.11.0, this behavior will change: the default value of `keepdims` will become False, the `axis` over which the statistic is taken will be eliminated, and the value None will no longer be accepted. Set `keepdims` to True or False to avoid this warning.\n",
      "  stats.mode(Height)\n"
     ]
    },
    {
     "data": {
      "text/plain": [
       "ModeResult(mode=array([177.]), count=array([3]))"
      ]
     },
     "execution_count": 11,
     "metadata": {},
     "output_type": "execute_result"
    }
   ],
   "source": [
    "stats.mode(Height)"
   ]
  },
  {
   "cell_type": "markdown",
   "id": "db79423a-bdfc-4a5a-b1f6-77572001c271",
   "metadata": {},
   "source": [
    "Q4. Find the standard deviation for the given data:\n",
    "[178,177,176,177,178.2,178,175,179,180,175,178.9,176.2,177,172.5,178,176.5]"
   ]
  },
  {
   "cell_type": "code",
   "execution_count": 13,
   "id": "d30f438d-4ef8-406f-aa94-5126a724c473",
   "metadata": {},
   "outputs": [],
   "source": [
    "Height=[178,177,176,177,178.2,178,175,179,180,175,178.9,176.2,177,172.5,178,176.5]"
   ]
  },
  {
   "cell_type": "code",
   "execution_count": 14,
   "id": "2ad3cdbb-09ad-49ed-bb9d-c25eb77e8b5b",
   "metadata": {},
   "outputs": [
    {
     "data": {
      "text/plain": [
       "1.7885814036548633"
      ]
     },
     "execution_count": 14,
     "metadata": {},
     "output_type": "execute_result"
    }
   ],
   "source": [
    "np.std(Height)"
   ]
  },
  {
   "cell_type": "markdown",
   "id": "fb2d23a3-968f-475d-87e2-27dce3c1d173",
   "metadata": {},
   "source": [
    "Q5. How are measures of dispersion such as range, variance, and standard deviation used to describe\n",
    "the spread of a dataset? Provide an example."
   ]
  },
  {
   "cell_type": "markdown",
   "id": "7c3de5dd-5588-431d-8882-4452e05c4875",
   "metadata": {},
   "source": [
    "Ans :The variance and the standard deviation are measures of the spread of the data around the mean. They summarise how close each observed data value is to the mean value. In datasets with a small spread all values are very close to the mean, resulting in a small variance and standard deviation."
   ]
  },
  {
   "cell_type": "code",
   "execution_count": 15,
   "id": "6751cd7d-eadd-4438-8207-1e36394367b2",
   "metadata": {},
   "outputs": [],
   "source": [
    "Height=[178,177,176,177,178.2,178,175,179,180,175,178.9,176.2,177,172.5,178,176.5]"
   ]
  },
  {
   "cell_type": "code",
   "execution_count": 16,
   "id": "6db37c1d-9da6-4f73-9df5-ce18798ff931",
   "metadata": {},
   "outputs": [
    {
     "data": {
      "text/plain": [
       "1.7885814036548633"
      ]
     },
     "execution_count": 16,
     "metadata": {},
     "output_type": "execute_result"
    }
   ],
   "source": [
    "np.std(Height)"
   ]
  },
  {
   "cell_type": "code",
   "execution_count": 17,
   "id": "b48b7b48-74b1-4bde-8c19-8e13e02c3db9",
   "metadata": {},
   "outputs": [
    {
     "data": {
      "text/plain": [
       "3.199023437500001"
      ]
     },
     "execution_count": 17,
     "metadata": {},
     "output_type": "execute_result"
    }
   ],
   "source": [
    "np.var(Height)"
   ]
  },
  {
   "cell_type": "raw",
   "id": "db04c5be-6211-4dc1-8164-7497dfc70d4d",
   "metadata": {},
   "source": [
    "Q6. What is a Venn diagram?"
   ]
  },
  {
   "cell_type": "raw",
   "id": "6b9bb277-7b0e-4bbf-aa71-ed7669127546",
   "metadata": {},
   "source": [
    "Ans :Venn diagrams are the diagrams that are used to represent the sets, relation between the sets and operation performed on them, in a pictorial way"
   ]
  },
  {
   "cell_type": "markdown",
   "id": "2e9b76f6-d6c0-4a7b-a7d2-b0eb6fbb23a3",
   "metadata": {},
   "source": [
    "Q7. For the two given sets A = (2,3,4,5,6,7) & B = (0,2,6,8,10). Find:\n",
    "(i) A B\n",
    "(ii) A ⋃ B"
   ]
  },
  {
   "cell_type": "markdown",
   "id": "c50bb6aa-0c79-488e-9ed8-36144edfa05b",
   "metadata": {},
   "source": [
    "(i)A intersection B=(2,6)"
   ]
  },
  {
   "cell_type": "markdown",
   "id": "b46a8239-55ff-4dab-a414-733ace8a6869",
   "metadata": {},
   "source": [
    "(ii)A U B =(0,2,3,4,5,6,7,8,10)"
   ]
  },
  {
   "cell_type": "markdown",
   "id": "ea1c4619-c5cd-4687-8dbc-67e1f89e4931",
   "metadata": {},
   "source": [
    "Q8. What do you understand about skewness in data?"
   ]
  },
  {
   "cell_type": "markdown",
   "id": "6e554e10-39fe-4c68-a1e0-94c1ef572e93",
   "metadata": {},
   "source": [
    "Ans :Skewness is a measure of the asymmetry of a distribution. A distribution is asymmetrical when its left and right side are not mirror images. A distribution can have right (or positive), left (or negative), or zero skewness."
   ]
  },
  {
   "cell_type": "markdown",
   "id": "fe86f74f-7a76-4ed1-a2e0-926e6b76d5a4",
   "metadata": {},
   "source": [
    "Q9. If a data is right skewed then what will be the position of median with respect to mean?"
   ]
  },
  {
   "cell_type": "markdown",
   "id": "8faeb28b-85a0-4a16-b2f5-6be545ac1641",
   "metadata": {},
   "source": [
    "Ans: Mean>Median "
   ]
  },
  {
   "cell_type": "markdown",
   "id": "1fe9e678-6b27-4616-837d-a94f2fa7f728",
   "metadata": {},
   "source": [
    "Q10. Explain the difference between covariance and correlation. How are these measures used in\n",
    "statistical analysis?"
   ]
  },
  {
   "cell_type": "markdown",
   "id": "46f6f83d-20e7-4333-b66e-40f23f0c5f4d",
   "metadata": {},
   "source": [
    "Covariance is an indicator of the extent to which 2 random variables are dependent on each other. A higher number denotes higher dependency.\n",
    "The value of covariance lies in the range of -∞ and +∞.\n",
    "Change in scale Affects covariance"
   ]
  },
  {
   "cell_type": "markdown",
   "id": "7739282f-25d2-45a5-93dd-b2ef7603d63e",
   "metadata": {},
   "source": [
    "Correlation is a statistical measure that indicates how strongly two variables are related.\n",
    "Correlation is limited to values between the range -1 and +1.\n",
    "Does not affect the correlation."
   ]
  },
  {
   "cell_type": "markdown",
   "id": "37ded4b2-dfd0-4f7f-8ec6-d57013ffb6a7",
   "metadata": {},
   "source": [
    "Q11. What is the formula for calculating the sample mean? Provide an example calculation for a\n",
    "dataset."
   ]
  },
  {
   "cell_type": "markdown",
   "id": "a56bbacc-08a0-4959-a770-3119208f3a90",
   "metadata": {},
   "source": [
    "sample mean=∑xi/n"
   ]
  },
  {
   "cell_type": "markdown",
   "id": "3d5f2d44-2b0f-473a-b845-aa51731b810d",
   "metadata": {},
   "source": [
    "x=(60, 57, 109, 50)"
   ]
  },
  {
   "cell_type": "code",
   "execution_count": null,
   "id": "a5a859fa-23b3-48a7-a721-adf0a2973300",
   "metadata": {},
   "outputs": [],
   "source": [
    "Sum of terms = 60 + 57 + 109 + 50 = 276\n",
    "Number of terms = 4\n",
    "Using sample mean formula,\n",
    "mean = (sum of terms)/(number of terms)\n",
    "mean = 276/4 = 69"
   ]
  },
  {
   "cell_type": "markdown",
   "id": "784d2395-f92d-4fcc-b4fd-3a956ac9b465",
   "metadata": {},
   "source": [
    "Q12. For a normal distribution data what is the relationship between its measure of central tendency?"
   ]
  },
  {
   "cell_type": "markdown",
   "id": "775037e6-66c3-4cca-b2ea-e7220994746f",
   "metadata": {},
   "source": [
    "Ans :Any normal distribution has a graph that is perfectly symmetric about a vertical line through its peak. Therefore, all measures of central tendency (most commonly, the mean, median, and mode) give the same answer: the x -value of the peak."
   ]
  },
  {
   "cell_type": "markdown",
   "id": "208fe17a-200c-4859-8ff6-9aa8d9382cb8",
   "metadata": {},
   "source": [
    "Q13. How is covariance different from correlation?"
   ]
  },
  {
   "cell_type": "markdown",
   "id": "f4aa240d-20dd-4fd3-af50-6803d8e26dd9",
   "metadata": {},
   "source": [
    "Ans :Covariance indicates the direction of the linear relationship between variables while correlation measures both the strength and direction of the linear relationship between two variables. Correlation is a function of the covariance."
   ]
  },
  {
   "cell_type": "markdown",
   "id": "43ce1c63-a082-45e9-8362-1d9fba5c1cef",
   "metadata": {},
   "source": [
    "Q14. How do outliers affect measures of central tendency and dispersion? Provide an example."
   ]
  },
  {
   "cell_type": "markdown",
   "id": "c8b35fb7-034f-4596-85d6-d5235f05c3b7",
   "metadata": {},
   "source": [
    "Ans:Outliers are numbers in a data set that are vastly larger or smaller than the other values in the set. Mean, median and mode are measures of central tendency. Mean is the only measure of central tendency that is always affected by an outlier. Mean, the average, is the most popular measure of central tendency."
   ]
  },
  {
   "cell_type": "code",
   "execution_count": 19,
   "id": "f4ccb87c-5b8b-4483-a985-0817f76734fd",
   "metadata": {},
   "outputs": [],
   "source": [
    "x1=[10, 15, 260, 20, 18, 25, 25]"
   ]
  },
  {
   "cell_type": "code",
   "execution_count": 20,
   "id": "8e36b678-368d-4929-85d2-ecf59f504ea3",
   "metadata": {},
   "outputs": [],
   "source": [
    "import numpy as np"
   ]
  },
  {
   "cell_type": "code",
   "execution_count": 21,
   "id": "36eb2f6b-be83-42e2-84fb-4cff72b3d7a5",
   "metadata": {},
   "outputs": [
    {
     "data": {
      "text/plain": [
       "53.285714285714285"
      ]
     },
     "execution_count": 21,
     "metadata": {},
     "output_type": "execute_result"
    }
   ],
   "source": [
    "np.mean(x1) # with outliers is present"
   ]
  },
  {
   "cell_type": "code",
   "execution_count": 22,
   "id": "52172bb5-c5ef-4602-9eaa-95930de68495",
   "metadata": {},
   "outputs": [],
   "source": [
    "x2=[10, 15, 20, 18, 25, 25]"
   ]
  },
  {
   "cell_type": "code",
   "execution_count": 23,
   "id": "459f44a5-848e-4aab-84cc-db36fe0071cb",
   "metadata": {},
   "outputs": [
    {
     "data": {
      "text/plain": [
       "18.833333333333332"
      ]
     },
     "execution_count": 23,
     "metadata": {},
     "output_type": "execute_result"
    }
   ],
   "source": [
    "np.mean(x2) # without outliers is present"
   ]
  },
  {
   "cell_type": "markdown",
   "id": "5f9a7894-4a78-47bd-bb58-242ae3bd8635",
   "metadata": {},
   "source": [
    "Outliers may not necessarily affect the median and mode"
   ]
  }
 ],
 "metadata": {
  "kernelspec": {
   "display_name": "Python 3 (ipykernel)",
   "language": "python",
   "name": "python3"
  },
  "language_info": {
   "codemirror_mode": {
    "name": "ipython",
    "version": 3
   },
   "file_extension": ".py",
   "mimetype": "text/x-python",
   "name": "python",
   "nbconvert_exporter": "python",
   "pygments_lexer": "ipython3",
   "version": "3.10.8"
  }
 },
 "nbformat": 4,
 "nbformat_minor": 5
}
